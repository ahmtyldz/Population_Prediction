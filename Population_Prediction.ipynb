{
 "cells": [
  {
   "cell_type": "code",
   "execution_count": 8,
   "id": "1a5f7503",
   "metadata": {},
   "outputs": [],
   "source": [
    "import math\n",
    "import pandas as pd\n",
    "import numpy as np\n",
    "\n",
    "\n",
    "import matplotlib.pyplot as plt\n",
    "\n",
    "from sklearn.preprocessing import MinMaxScaler\n",
    "from keras.models import Sequential\n",
    "from keras.layers import Dense, LSTM\n",
    "from sklearn.model_selection import train_test_split"
   ]
  },
  {
   "cell_type": "code",
   "execution_count": 9,
   "id": "4ad9db5e",
   "metadata": {},
   "outputs": [],
   "source": [
    "dataForVisualition = pd.read_csv(r\"C:\\Users\\ahmet\\Desktop\\archive\\population_csv.csv\", index_col='Year')\n",
    "data = pd.read_csv(r\"C:\\Users\\ahmet\\Desktop\\archive\\population_csv.csv\")"
   ]
  },
  {
   "cell_type": "code",
   "execution_count": 10,
   "id": "d231c0d4",
   "metadata": {},
   "outputs": [],
   "source": [
    "data = data[data['Country Code'] == 'TUR']\n",
    "dataForVisualition = dataForVisualition[dataForVisualition['Country Code'] == 'TUR']"
   ]
  },
  {
   "cell_type": "code",
   "execution_count": 11,
   "id": "b28786e8",
   "metadata": {},
   "outputs": [
    {
     "data": {
      "image/png": "[encoded data removed]",
      "text/plain": [
       "<Figure size 432x288 with 1 Axes>"
      ]
     },
     "metadata": {},
     "output_type": "display_data"
    }
   ],
   "source": [
    "plt.style.use('fivethirtyeight')\n",
    "plt.figure(figsize=(6,4))\n",
    "plt.xlabel('Yıl', fontsize=12)\n",
    "plt.ylabel('Nüfus', fontsize=12)\n",
    "plt.scatter(data.Year,data.Value, color='blue', marker='+')\n",
    "plt.show()"
   ]
  },
  {
   "cell_type": "code",
   "execution_count": 12,
   "id": "3ae1fdec",
   "metadata": {},
   "outputs": [],
   "source": [
    "veri = dataForVisualition.filter(['Value'])\n",
    "veriseti = veri.values\n",
    "train_veri_uzunluk = math.ceil(len(veriseti)* 0.8)"
   ]
  },
  {
   "cell_type": "code",
   "execution_count": 13,
   "id": "4aef0695",
   "metadata": {},
   "outputs": [
    {
     "data": {
      "text/plain": [
       "array([[0.        ],\n",
       "       [0.01229895],\n",
       "       [0.02480487],\n",
       "       [0.0375409 ],\n",
       "       [0.05053871],\n",
       "       [0.06382527],\n",
       "       [0.07739954],\n",
       "       [0.09126502],\n",
       "       [0.10545844],\n",
       "       [0.12002479],\n",
       "       [0.13499201],\n",
       "       [0.15038556],\n",
       "       [0.1661869 ],\n",
       "       [0.18232395],\n",
       "       [0.19869569],\n",
       "       [0.21523204],\n",
       "       [0.23186563],\n",
       "       [0.24861629],\n",
       "       [0.26560334],\n",
       "       [0.28299795],\n",
       "       [0.30090091],\n",
       "       [0.31936018],\n",
       "       [0.33826714],\n",
       "       [0.35737582],\n",
       "       [0.37634998],\n",
       "       [0.39494307],\n",
       "       [0.4130771 ],\n",
       "       [0.43080598],\n",
       "       [0.44817857],\n",
       "       [0.46529374],\n",
       "       [0.48223663],\n",
       "       [0.49898911],\n",
       "       [0.51555067],\n",
       "       [0.53204838],\n",
       "       [0.54864717],\n",
       "       [0.56546204],\n",
       "       [0.58254264],\n",
       "       [0.59985041],\n",
       "       [0.6173008 ],\n",
       "       [0.63476236],\n",
       "       [0.65213415],\n",
       "       [0.6694923 ],\n",
       "       [0.68687005],\n",
       "       [0.70408209],\n",
       "       [0.72088376],\n",
       "       [0.7371569 ],\n",
       "       [0.75271537],\n",
       "       [0.7677578 ],\n",
       "       [0.78301388],\n",
       "       [0.79947401],\n",
       "       [0.81780832],\n",
       "       [0.83817165],\n",
       "       [0.86021742],\n",
       "       [0.88347374],\n",
       "       [0.90723683],\n",
       "       [0.93089342],\n",
       "       [0.95445544],\n",
       "       [0.97779599],\n",
       "       [1.        ]])"
      ]
     },
     "execution_count": 13,
     "metadata": {},
     "output_type": "execute_result"
    }
   ],
   "source": [
    "MinMaxScale = MinMaxScaler(feature_range=(0,1))\n",
    "MinMaxScaled_veri = MinMaxScale.fit_transform(veriseti)\n",
    "MinMaxScaled_veri"
   ]
  },
  {
   "cell_type": "code",
   "execution_count": 14,
   "id": "c04b1c6c",
   "metadata": {},
   "outputs": [
    {
     "name": "stdout",
     "output_type": "stream",
     "text": [
      "[array([0.        , 0.01229895, 0.02480487, 0.0375409 , 0.05053871,\n",
      "       0.06382527, 0.07739954, 0.09126502, 0.10545844, 0.12002479,\n",
      "       0.13499201, 0.15038556, 0.1661869 , 0.18232395, 0.19869569,\n",
      "       0.21523204, 0.23186563, 0.24861629, 0.26560334, 0.28299795,\n",
      "       0.30090091, 0.31936018, 0.33826714, 0.35737582, 0.37634998,\n",
      "       0.39494307, 0.4130771 , 0.43080598, 0.44817857, 0.46529374,\n",
      "       0.48223663, 0.49898911, 0.51555067, 0.53204838, 0.54864717])]\n",
      "[0.5654620433184236]\n",
      "\n"
     ]
    }
   ],
   "source": [
    "train_veri = MinMaxScaled_veri[0:train_veri_uzunluk, :]\n",
    "x_train = []\n",
    "y_train = []\n",
    "\n",
    "for i in range(35, len(train_veri)):\n",
    "    x_train.append(train_veri[i-35:i, 0])\n",
    "    y_train.append(train_veri[i,0])\n",
    "    if i<=35:\n",
    "        print(x_train)\n",
    "        print(y_train)\n",
    "        print()"
   ]
  },
  {
   "cell_type": "code",
   "execution_count": 15,
   "id": "e5004b71",
   "metadata": {},
   "outputs": [],
   "source": [
    "x_train , y_train = np.array(x_train), np.array(y_train)"
   ]
  },
  {
   "cell_type": "code",
   "execution_count": 16,
   "id": "016d8f91",
   "metadata": {},
   "outputs": [],
   "source": [
    "x_train = np.reshape(x_train,(x_train.shape[0],x_train.shape[1], 1))"
   ]
  },
  {
   "cell_type": "code",
   "execution_count": 17,
   "id": "758e12a7",
   "metadata": {},
   "outputs": [],
   "source": [
    "model = Sequential()\n",
    "model.add(LSTM(50, return_sequences=True, input_shape =(x_train.shape[1], 1)))\n",
    "model.add(LSTM(50, return_sequences=False))\n",
    "model.add(Dense(1))"
   ]
  },
  {
   "cell_type": "code",
   "execution_count": 18,
   "id": "88a497aa",
   "metadata": {},
   "outputs": [],
   "source": [
    "model.compile(optimizer='adam', loss='mean_squared_error')"
   ]
  },
  {
   "cell_type": "code",
   "execution_count": 19,
   "id": "fc2851f4",
   "metadata": {
    "scrolled": true
   },
   "outputs": [
    {
     "name": "stdout",
     "output_type": "stream",
     "text": [
      "Epoch 1/60\n",
      "10/10 [==============================] - 1s 138ms/step - loss: 0.1691 - val_loss: 0.1095\n",
      "Epoch 2/60\n",
      "10/10 [==============================] - 0s 17ms/step - loss: 0.0240 - val_loss: 0.0193\n",
      "Epoch 3/60\n",
      "10/10 [==============================] - 0s 16ms/step - loss: 0.0087 - val_loss: 9.0733e-06\n",
      "Epoch 4/60\n",
      "10/10 [==============================] - 0s 15ms/step - loss: 0.0020 - val_loss: 1.7511e-04\n",
      "Epoch 5/60\n",
      "10/10 [==============================] - 0s 15ms/step - loss: 5.4937e-04 - val_loss: 0.0010\n",
      "Epoch 6/60\n",
      "10/10 [==============================] - 0s 15ms/step - loss: 1.6029e-04 - val_loss: 7.4338e-05\n",
      "Epoch 7/60\n",
      "10/10 [==============================] - 0s 15ms/step - loss: 8.3628e-05 - val_loss: 2.4010e-04\n",
      "Epoch 8/60\n",
      "10/10 [==============================] - 0s 15ms/step - loss: 4.1107e-05 - val_loss: 6.4294e-06\n",
      "Epoch 9/60\n",
      "10/10 [==============================] - 0s 15ms/step - loss: 2.4071e-05 - val_loss: 7.7991e-05\n",
      "Epoch 10/60\n",
      "10/10 [==============================] - 0s 15ms/step - loss: 2.9195e-05 - val_loss: 1.9844e-05\n",
      "Epoch 11/60\n",
      "10/10 [==============================] - 0s 15ms/step - loss: 2.9918e-05 - val_loss: 8.9582e-05\n",
      "Epoch 12/60\n",
      "10/10 [==============================] - 0s 15ms/step - loss: 2.1900e-05 - val_loss: 3.6927e-05\n",
      "Epoch 13/60\n",
      "10/10 [==============================] - 0s 15ms/step - loss: 1.9506e-05 - val_loss: 3.4441e-05\n",
      "Epoch 14/60\n",
      "10/10 [==============================] - 0s 15ms/step - loss: 1.7280e-05 - val_loss: 1.5930e-05\n",
      "Epoch 15/60\n",
      "10/10 [==============================] - 0s 14ms/step - loss: 2.0797e-05 - val_loss: 3.1426e-05\n",
      "Epoch 16/60\n",
      "10/10 [==============================] - 0s 15ms/step - loss: 2.1639e-05 - val_loss: 4.5223e-05\n",
      "Epoch 17/60\n",
      "10/10 [==============================] - 0s 15ms/step - loss: 1.7230e-05 - val_loss: 1.8375e-05\n",
      "Epoch 18/60\n",
      "10/10 [==============================] - 0s 15ms/step - loss: 1.5989e-05 - val_loss: 1.4684e-05\n",
      "Epoch 19/60\n",
      "10/10 [==============================] - 0s 15ms/step - loss: 1.3460e-05 - val_loss: 3.3667e-05\n",
      "Epoch 20/60\n",
      "10/10 [==============================] - 0s 15ms/step - loss: 1.3847e-05 - val_loss: 1.5213e-05\n",
      "Epoch 21/60\n",
      "10/10 [==============================] - 0s 15ms/step - loss: 1.3507e-05 - val_loss: 1.5852e-06\n",
      "Epoch 22/60\n",
      "10/10 [==============================] - 0s 14ms/step - loss: 1.3562e-05 - val_loss: 1.8038e-05\n",
      "Epoch 23/60\n",
      "10/10 [==============================] - 0s 15ms/step - loss: 1.0086e-05 - val_loss: 1.1021e-06\n",
      "Epoch 24/60\n",
      "10/10 [==============================] - 0s 15ms/step - loss: 6.5273e-06 - val_loss: 2.2428e-05\n",
      "Epoch 25/60\n",
      "10/10 [==============================] - 0s 15ms/step - loss: 8.5052e-06 - val_loss: 2.6406e-06\n",
      "Epoch 26/60\n",
      "10/10 [==============================] - 0s 14ms/step - loss: 9.0179e-06 - val_loss: 1.4648e-06\n",
      "Epoch 27/60\n",
      "10/10 [==============================] - 0s 15ms/step - loss: 4.1247e-06 - val_loss: 1.9885e-05\n",
      "Epoch 28/60\n",
      "10/10 [==============================] - 0s 15ms/step - loss: 5.8035e-06 - val_loss: 3.1358e-06\n",
      "Epoch 29/60\n",
      "10/10 [==============================] - 0s 15ms/step - loss: 8.7116e-06 - val_loss: 3.5680e-05\n",
      "Epoch 30/60\n",
      "10/10 [==============================] - 0s 15ms/step - loss: 7.7094e-06 - val_loss: 8.6281e-07\n",
      "Epoch 31/60\n",
      "10/10 [==============================] - 0s 15ms/step - loss: 4.1725e-06 - val_loss: 2.4239e-06\n",
      "Epoch 32/60\n",
      "10/10 [==============================] - 0s 15ms/step - loss: 4.0740e-06 - val_loss: 4.9714e-06\n",
      "Epoch 33/60\n",
      "10/10 [==============================] - 0s 15ms/step - loss: 3.8618e-06 - val_loss: 6.4799e-07\n",
      "Epoch 34/60\n",
      "10/10 [==============================] - 0s 15ms/step - loss: 1.8565e-06 - val_loss: 8.9511e-06\n",
      "Epoch 35/60\n",
      "10/10 [==============================] - 0s 15ms/step - loss: 3.8923e-06 - val_loss: 1.6274e-06\n",
      "Epoch 36/60\n",
      "10/10 [==============================] - 0s 15ms/step - loss: 1.9172e-06 - val_loss: 2.3908e-06\n",
      "Epoch 37/60\n",
      "10/10 [==============================] - 0s 15ms/step - loss: 2.0040e-06 - val_loss: 8.2807e-07\n",
      "Epoch 38/60\n",
      "10/10 [==============================] - 0s 15ms/step - loss: 1.8281e-06 - val_loss: 1.0857e-06\n",
      "Epoch 39/60\n",
      "10/10 [==============================] - 0s 16ms/step - loss: 1.6691e-06 - val_loss: 2.1144e-06\n",
      "Epoch 40/60\n",
      "10/10 [==============================] - 0s 15ms/step - loss: 1.7431e-06 - val_loss: 9.6782e-07\n",
      "Epoch 41/60\n",
      "10/10 [==============================] - 0s 15ms/step - loss: 1.5101e-06 - val_loss: 9.2237e-07\n",
      "Epoch 42/60\n",
      "10/10 [==============================] - 0s 15ms/step - loss: 9.4968e-07 - val_loss: 1.1020e-06\n",
      "Epoch 43/60\n",
      "10/10 [==============================] - 0s 14ms/step - loss: 8.4846e-07 - val_loss: 1.0790e-06\n",
      "Epoch 44/60\n",
      "10/10 [==============================] - 0s 16ms/step - loss: 1.1171e-06 - val_loss: 1.0146e-06\n",
      "Epoch 45/60\n",
      "10/10 [==============================] - 0s 15ms/step - loss: 1.5530e-06 - val_loss: 3.2896e-06\n",
      "Epoch 46/60\n",
      "10/10 [==============================] - 0s 15ms/step - loss: 1.1152e-06 - val_loss: 3.9082e-06\n",
      "Epoch 47/60\n",
      "10/10 [==============================] - 0s 15ms/step - loss: 1.7887e-06 - val_loss: 1.1710e-06\n",
      "Epoch 48/60\n",
      "10/10 [==============================] - 0s 15ms/step - loss: 6.0121e-07 - val_loss: 1.8819e-06\n",
      "Epoch 49/60\n",
      "10/10 [==============================] - 0s 15ms/step - loss: 7.9393e-07 - val_loss: 3.7584e-06\n",
      "Epoch 50/60\n",
      "10/10 [==============================] - 0s 15ms/step - loss: 1.3572e-06 - val_loss: 8.4887e-06\n",
      "Epoch 51/60\n",
      "10/10 [==============================] - 0s 15ms/step - loss: 8.3013e-07 - val_loss: 2.7158e-06\n",
      "Epoch 52/60\n",
      "10/10 [==============================] - 0s 15ms/step - loss: 3.2850e-07 - val_loss: 3.0121e-06\n",
      "Epoch 53/60\n",
      "10/10 [==============================] - 0s 15ms/step - loss: 3.9330e-07 - val_loss: 2.7784e-06\n",
      "Epoch 54/60\n",
      "10/10 [==============================] - 0s 15ms/step - loss: 3.0944e-07 - val_loss: 2.7577e-06\n",
      "Epoch 55/60\n",
      "10/10 [==============================] - 0s 15ms/step - loss: 3.8228e-07 - val_loss: 4.7368e-06\n",
      "Epoch 56/60\n",
      "10/10 [==============================] - 0s 15ms/step - loss: 6.8887e-07 - val_loss: 5.9084e-06\n",
      "Epoch 57/60\n",
      "10/10 [==============================] - 0s 15ms/step - loss: 5.9722e-07 - val_loss: 9.3850e-06\n",
      "Epoch 58/60\n",
      "10/10 [==============================] - 0s 15ms/step - loss: 9.3363e-07 - val_loss: 3.9449e-06\n",
      "Epoch 59/60\n",
      "10/10 [==============================] - 0s 16ms/step - loss: 1.1855e-06 - val_loss: 1.4509e-06\n",
      "Epoch 60/60\n",
      "10/10 [==============================] - 0s 15ms/step - loss: 5.9478e-07 - val_loss: 2.0938e-06\n"
     ]
    },
    {
     "data": {
      "text/plain": [
       "<tensorflow.python.keras.callbacks.History at 0x2bf8361adc0>"
      ]
     },
     "execution_count": 19,
     "metadata": {},
     "output_type": "execute_result"
    }
   ],
   "source": [
    "model.fit(x_train,y_train, validation_split=0.2, batch_size=1, epochs=60)"
   ]
  },
  {
   "cell_type": "code",
   "execution_count": 20,
   "id": "01b4c31b",
   "metadata": {},
   "outputs": [],
   "source": [
    "test_veri = MinMaxScaled_veri[train_veri_uzunluk - 35: , :]\n",
    "x_test = []\n",
    "y_test = veriseti[train_veri_uzunluk:,:]\n",
    "for y in range(35,len(test_veri)):\n",
    "    x_test.append(test_veri[y-35:y, 0])"
   ]
  },
  {
   "cell_type": "code",
   "execution_count": 21,
   "id": "9ffcb436",
   "metadata": {},
   "outputs": [],
   "source": [
    "x_test = np.array(x_test)"
   ]
  },
  {
   "cell_type": "code",
   "execution_count": 22,
   "id": "65257444",
   "metadata": {},
   "outputs": [],
   "source": [
    "x_test = np.reshape(x_test,(x_test.shape[0],x_test.shape[1], 1))"
   ]
  },
  {
   "cell_type": "code",
   "execution_count": 23,
   "id": "1dda6989",
   "metadata": {},
   "outputs": [
    {
     "data": {
      "text/plain": [
       "array([[70612540.],\n",
       "       [71503064.],\n",
       "       [72382720.],\n",
       "       [73254850.],\n",
       "       [74124920.],\n",
       "       [74999490.],\n",
       "       [75885000.],\n",
       "       [76786530.],\n",
       "       [77707060.],\n",
       "       [78647690.],\n",
       "       [79607860.]], dtype=float32)"
      ]
     },
     "execution_count": 23,
     "metadata": {},
     "output_type": "execute_result"
    }
   ],
   "source": [
    "tahmin_degerleri = model.predict(x_test)\n",
    "tahmin_degerleri = MinMaxScale.inverse_transform(tahmin_degerleri)\n",
    "tahmin_degerleri"
   ]
  },
  {
   "cell_type": "code",
   "execution_count": 24,
   "id": "0a8165df",
   "metadata": {},
   "outputs": [
    {
     "name": "stderr",
     "output_type": "stream",
     "text": [
      "<ipython-input-24-cb619f08a1e3>:3: SettingWithCopyWarning: \n",
      "A value is trying to be set on a copy of a slice from a DataFrame.\n",
      "Try using .loc[row_indexer,col_indexer] = value instead\n",
      "\n",
      "See the caveats in the documentation: https://pandas.pydata.org/pandas-docs/stable/user_guide/indexing.html#returning-a-view-versus-a-copy\n",
      "  tahmin['Tahminler'] = tahmin_degerleri\n"
     ]
    },
    {
     "data": {
      "image/png": "[encoded data removed]",
      "text/plain": [
       "<Figure size 1080x576 with 1 Axes>"
      ]
     },
     "metadata": {},
     "output_type": "display_data"
    }
   ],
   "source": [
    "train = dataForVisualition[:train_veri_uzunluk]\n",
    "tahmin = dataForVisualition[train_veri_uzunluk:]\n",
    "tahmin['Tahminler'] = tahmin_degerleri\n",
    "\n",
    "plt.figure(figsize=(15,8))\n",
    "plt.xlabel(\"Tarih\", fontsize=18)\n",
    "plt.ylabel('Nüfus', fontsize=18)\n",
    "plt.plot(train[\"Value\"])\n",
    "plt.plot(tahmin[['Value','Tahminler']])\n",
    "plt.legend(['Nüfus Değerleri','Değer','Tahminler'],loc='lower right')\n",
    "plt.show()"
   ]
  },
  {
   "cell_type": "code",
   "execution_count": 25,
   "id": "0369c931",
   "metadata": {},
   "outputs": [
    {
     "data": {
      "text/html": [
       "<div>\n",
       "<style scoped>\n",
       "    .dataframe tbody tr th:only-of-type {\n",
       "        vertical-align: middle;\n",
       "    }\n",
       "\n",
       "    .dataframe tbody tr th {\n",
       "        vertical-align: top;\n",
       "    }\n",
       "\n",
       "    .dataframe thead th {\n",
       "        text-align: right;\n",
       "    }\n",
       "</style>\n",
       "<table border=\"1\" class=\"dataframe\">\n",
       "  <thead>\n",
       "    <tr style=\"text-align: right;\">\n",
       "      <th></th>\n",
       "      <th>Country Name</th>\n",
       "      <th>Country Code</th>\n",
       "      <th>Value</th>\n",
       "      <th>Tahminler</th>\n",
       "    </tr>\n",
       "    <tr>\n",
       "      <th>Year</th>\n",
       "      <th></th>\n",
       "      <th></th>\n",
       "      <th></th>\n",
       "      <th></th>\n",
       "    </tr>\n",
       "  </thead>\n",
       "  <tbody>\n",
       "    <tr>\n",
       "      <th>2008</th>\n",
       "      <td>Turkey</td>\n",
       "      <td>TUR</td>\n",
       "      <td>70418604</td>\n",
       "      <td>70612544.0</td>\n",
       "    </tr>\n",
       "    <tr>\n",
       "      <th>2009</th>\n",
       "      <td>Turkey</td>\n",
       "      <td>TUR</td>\n",
       "      <td>71321399</td>\n",
       "      <td>71503064.0</td>\n",
       "    </tr>\n",
       "    <tr>\n",
       "      <th>2010</th>\n",
       "      <td>Turkey</td>\n",
       "      <td>TUR</td>\n",
       "      <td>72326988</td>\n",
       "      <td>72382720.0</td>\n",
       "    </tr>\n",
       "    <tr>\n",
       "      <th>2011</th>\n",
       "      <td>Turkey</td>\n",
       "      <td>TUR</td>\n",
       "      <td>73443863</td>\n",
       "      <td>73254848.0</td>\n",
       "    </tr>\n",
       "    <tr>\n",
       "      <th>2012</th>\n",
       "      <td>Turkey</td>\n",
       "      <td>TUR</td>\n",
       "      <td>74653016</td>\n",
       "      <td>74124920.0</td>\n",
       "    </tr>\n",
       "    <tr>\n",
       "      <th>2013</th>\n",
       "      <td>Turkey</td>\n",
       "      <td>TUR</td>\n",
       "      <td>75928564</td>\n",
       "      <td>74999488.0</td>\n",
       "    </tr>\n",
       "    <tr>\n",
       "      <th>2014</th>\n",
       "      <td>Turkey</td>\n",
       "      <td>TUR</td>\n",
       "      <td>77231907</td>\n",
       "      <td>75885000.0</td>\n",
       "    </tr>\n",
       "    <tr>\n",
       "      <th>2015</th>\n",
       "      <td>Turkey</td>\n",
       "      <td>TUR</td>\n",
       "      <td>78529409</td>\n",
       "      <td>76786528.0</td>\n",
       "    </tr>\n",
       "    <tr>\n",
       "      <th>2016</th>\n",
       "      <td>Turkey</td>\n",
       "      <td>TUR</td>\n",
       "      <td>79821724</td>\n",
       "      <td>77707056.0</td>\n",
       "    </tr>\n",
       "    <tr>\n",
       "      <th>2017</th>\n",
       "      <td>Turkey</td>\n",
       "      <td>TUR</td>\n",
       "      <td>81101892</td>\n",
       "      <td>78647688.0</td>\n",
       "    </tr>\n",
       "    <tr>\n",
       "      <th>2018</th>\n",
       "      <td>Turkey</td>\n",
       "      <td>TUR</td>\n",
       "      <td>82319724</td>\n",
       "      <td>79607856.0</td>\n",
       "    </tr>\n",
       "  </tbody>\n",
       "</table>\n",
       "</div>"
      ],
      "text/plain": [
       "     Country Name Country Code     Value   Tahminler\n",
       "Year                                                \n",
       "2008       Turkey          TUR  70418604  70612544.0\n",
       "2009       Turkey          TUR  71321399  71503064.0\n",
       "2010       Turkey          TUR  72326988  72382720.0\n",
       "2011       Turkey          TUR  73443863  73254848.0\n",
       "2012       Turkey          TUR  74653016  74124920.0\n",
       "2013       Turkey          TUR  75928564  74999488.0\n",
       "2014       Turkey          TUR  77231907  75885000.0\n",
       "2015       Turkey          TUR  78529409  76786528.0\n",
       "2016       Turkey          TUR  79821724  77707056.0\n",
       "2017       Turkey          TUR  81101892  78647688.0\n",
       "2018       Turkey          TUR  82319724  79607856.0"
      ]
     },
     "execution_count": 25,
     "metadata": {},
     "output_type": "execute_result"
    }
   ],
   "source": [
    "tahmin"
   ]
  },
  {
   "cell_type": "code",
   "execution_count": 26,
   "id": "7568bf4a",
   "metadata": {},
   "outputs": [
    {
     "name": "stdout",
     "output_type": "stream",
     "text": [
      "Root Mean Squared Error:  1053216.1818181819\n"
     ]
    }
   ],
   "source": [
    "RmseDeger = np.sqrt(np.mean(tahmin_degerleri - y_test)**2)\n",
    "print (\"Root Mean Squared Error: \", RmseDeger)"
   ]
  },
  {
   "cell_type": "code",
   "execution_count": null,
   "id": "a5fada36",
   "metadata": {},
   "outputs": [],
   "source": []
  },
  {
   "cell_type": "code",
   "execution_count": null,
   "id": "28f2cb1e",
   "metadata": {},
   "outputs": [],
   "source": []
  }
 ],
 "metadata": {
  "kernelspec": {
   "display_name": "Python 3",
   "language": "python",
   "name": "python3"
  },
  "language_info": {
   "codemirror_mode": {
    "name": "ipython",
    "version": 3
   },
   "file_extension": ".py",
   "mimetype": "text/x-python",
   "name": "python",
   "nbconvert_exporter": "python",
   "pygments_lexer": "ipython3",
   "version": "3.8.8"
  }
 },
 "nbformat": 4,
 "nbformat_minor": 5
}
